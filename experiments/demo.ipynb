{
 "cells": [
  {
   "cell_type": "code",
   "execution_count": 1,
   "metadata": {},
   "outputs": [],
   "source": [
    "import sys\n",
    "sys.path.append(\"../src\")\n",
    "import numpy as np\n",
    "import pandas as pd\n",
    "from opt_summary import OptSummary\n",
    "from sd_summary import SDSummary\n",
    "from no_del_summary import NoDeletionSummary\n",
    "import time\n",
    "from utils import *\n",
    "import stopit\n",
    "plt.rc('axes', axisbelow=True)\n",
    "plt.rcParams['axes.facecolor']='w'\n",
    "plt.rcParams['savefig.facecolor']='w'\n",
    "\n",
    "@stopit.threading_timeoutable(default=(np.nan, np.nan))\n",
    "def exec_summary(s, values, f, k, beta, jit=False):\n",
    "    start_time = time.time()\n",
    "    if s == 'NO DEL':\n",
    "        test = NoDeletionSummary(values, f, beta)\n",
    "        err = test.summarize()\n",
    "    elif s == 'DS':\n",
    "        values, f = outlier_removal(values, f, del_percentage)\n",
    "        test = NoDeletionSummary(values, f, beta)\n",
    "        err = test.summarize()\n",
    "    elif s == 'SD CON':\n",
    "        test = SDSummary(values, f, beta, k, method='con')\n",
    "        err = test.summarize(k)\n",
    "    elif s == 'SD ARB':\n",
    "        test = SDSummary(values, f, beta, k, method='arb')\n",
    "        err = test.summarize(k)\n",
    "    elif s == 'CON': \n",
    "        test = OptSummary(values, f, beta, k, method='con')\n",
    "        if jit == True:\n",
    "            test.jit = True\n",
    "        err = test.summarize(k)\n",
    "    elif s == 'ARB':\n",
    "        test = OptSummary(values, f, beta, k, method='arb')\n",
    "        err = test.summarize(k)\n",
    "        \n",
    "    elapsed = (time.time() - start_time)\n",
    "    return err, elapsed, test"
   ]
  },
  {
   "cell_type": "markdown",
   "metadata": {},
   "source": [
    "### In the cell below you can specify the parameters for the experiments.\n",
    "- timeout: In seconds. Choose how long a summary is allowed to run before stoping its execution.\n",
    "- dataset: Uncomment one of the three available datasets.\n",
    "- frac: float in [0.0, 0.1]. Percentage of the dataset to be uniformely sampled. The experiments will be run on that sample. The default value is 0.10 a smaller value will make the experiments run faster due to the smaller size. However the results might not be that reliable. Higher values will lead to slower execution times.\n"
   ]
  },
  {
   "cell_type": "code",
   "execution_count": 2,
   "metadata": {},
   "outputs": [
    {
     "name": "stdout",
     "output_type": "stream",
     "text": [
      "Dataset: cars_year_produced\n"
     ]
    }
   ],
   "source": [
    "timeout = 120\n",
    "\n",
    "dataset = 'cars'\n",
    "#dataset = 'capital'\n",
    "#dataset = 'hours'\n",
    "if dataset == 'hours':\n",
    "    file = '../data/hours_per_week.csv'\n",
    "elif dataset == 'cars':\n",
    "    file = '../data/cars_year_produced.csv'\n",
    "elif dataset == 'capital':\n",
    "    file = '../data/capital_gain.csv'\n",
    "\n",
    "frac = 0.1\n",
    "    \n",
    "data_name = file.split('/')[2].rstrip('.csv')\n",
    "print(f'Dataset: {data_name}')"
   ]
  },
  {
   "cell_type": "markdown",
   "metadata": {},
   "source": [
    "### Loading the dataset"
   ]
  },
  {
   "cell_type": "code",
   "execution_count": 3,
   "metadata": {},
   "outputs": [],
   "source": [
    "df = pd.read_csv(file, header=None)\n",
    "df = df.sample(frac = frac, random_state=0)\n",
    "df = df.loc[:,0].value_counts()\n",
    "df = df.sort_index()\n",
    "values = df.index.values\n",
    "f = df.values"
   ]
  },
  {
   "cell_type": "markdown",
   "metadata": {},
   "source": [
    "### We are now going to create a histogram on the sample of the dataset that we got with 10 buckets and 2% of the dataset size as deletions, as those are the default parameters used in the paper. Then we are going to visualise the histograms that the different algorithms provide."
   ]
  },
  {
   "cell_type": "code",
   "execution_count": 4,
   "metadata": {},
   "outputs": [],
   "source": [
    "beta = 10\n",
    "del_percentage = 0.02\n",
    "k = int(np.sum(f) * del_percentage)\n",
    "\n",
    "\n",
    "err, elapsed, s = exec_summary('SD CON', values, f, k, beta, timeout=timeout)\n",
    "sd_con_left, sd_con_right, sd_con_n = s.getBucketRanges()\n",
    "sd_con_err = err\n",
    "sd_con_time = elapsed\n",
    "\n",
    "err, elapsed, s = exec_summary('NO DEL', values, f, k, beta, timeout=timeout)\n",
    "nd_left, nd_right, nd_n = s.getBucketRanges()\n",
    "no_del_err = err\n",
    "no_del_time = elapsed\n",
    "\n",
    "\n",
    "err, elapsed, s = exec_summary('CON', values, f, k, beta,jit=True ,timeout=timeout)\n",
    "con_left, con_right, con_n = s.getBucketRanges()\n",
    "con_err = err\n",
    "con_time = elapsed"
   ]
  },
  {
   "cell_type": "markdown",
   "metadata": {},
   "source": [
    "### First we are going to compare a v-optimal histogram with no deletions to the algorithm SD CON that deletes outliers on the buckets created by the no deletion algorithm in order ot minimize variance"
   ]
  },
  {
   "cell_type": "code",
   "execution_count": 5,
   "metadata": {},
   "outputs": [
    {
     "data": {
      "image/png": "[encoded data removed]",
      "text/plain": [
       "<Figure size 432x288 with 1 Axes>"
      ]
     },
     "metadata": {
      "needs_background": "light"
     },
     "output_type": "display_data"
    }
   ],
   "source": [
    "left_edges = [values[nd_left], values[sd_con_left]]\n",
    "right_edges = [values[nd_right], values[sd_con_right]]\n",
    "ns = [nd_n, sd_con_n]\n",
    "color = ['tab:gray', 'tab:orange']\n",
    "labels = ['NO DEL', 'SD CON']\n",
    "j = 0\n",
    "plt.figure(figsize=(6,4))\n",
    "plt.title('Histogram comparison No Deletions vs SD CON')\n",
    "for left, right, n in zip(left_edges, right_edges, ns):\n",
    "    buckets = []\n",
    "    widths = []\n",
    "    for i in range(len(left)):\n",
    "        buckets.append(left[i]+right[i])\n",
    "        width = right[i]-left[i]\n",
    "        if width == 0:\n",
    "            width = 0.1\n",
    "        widths.append(width)\n",
    "    plt.bar(np.array(buckets)/2, n, width=widths, color=color[j], alpha=0.7, label=labels[j])\n",
    "    plt.legend()\n",
    "    j += 1\n",
    "#plt.show()\n",
    "plt.savefig(f'../results/vis_nodel_sdcon{data_name}.png')"
   ]
  },
  {
   "cell_type": "markdown",
   "metadata": {},
   "source": [
    "### Next we are going to compare a v-optimal histogram with no deletions to the algorithm CON that deletes outliers while creating the histogram."
   ]
  },
  {
   "cell_type": "code",
   "execution_count": 6,
   "metadata": {},
   "outputs": [
    {
     "data": {
      "image/png": "[encoded data removed]",
      "text/plain": [
       "<Figure size 432x288 with 1 Axes>"
      ]
     },
     "metadata": {
      "needs_background": "light"
     },
     "output_type": "display_data"
    }
   ],
   "source": [
    "    \n",
    "    \n",
    "left_edges = [values[nd_left], values[con_left]]\n",
    "right_edges = [values[nd_right], values[con_right]]\n",
    "ns = [nd_n, con_n]\n",
    "color = ['tab:gray', 'tab:blue']\n",
    "labels = ['NO DEL', 'CON']\n",
    "j = 0\n",
    "plt.figure(figsize=(6,4))\n",
    "plt.title('Histogram comparison No Deletions vs CON')\n",
    "for left, right, n in zip(left_edges, right_edges, ns):\n",
    "    buckets = []\n",
    "    widths = []\n",
    "    for i in range(len(left)):\n",
    "        buckets.append(left[i]+right[i])\n",
    "        width = right[i]-left[i]\n",
    "        if width == 0:\n",
    "            width = 0.1\n",
    "        widths.append(width)\n",
    "    plt.bar(np.array(buckets)/2, n, width=widths, color=color[j], alpha=0.5, label=labels[j])\n",
    "    plt.legend()\n",
    "    j += 1\n",
    "#plt.show()\n",
    "plt.savefig(f'../results/vis_nodel_con{data_name}.png')"
   ]
  },
  {
   "cell_type": "markdown",
   "metadata": {},
   "source": [
    "### Finally lets see a simple execution example"
   ]
  },
  {
   "cell_type": "code",
   "execution_count": 7,
   "metadata": {},
   "outputs": [
    {
     "data": {
      "image/png": "[encoded data removed]",
      "text/plain": [
       "<Figure size 720x576 with 1 Axes>"
      ]
     },
     "metadata": {
      "needs_background": "light"
     },
     "output_type": "display_data"
    }
   ],
   "source": [
    "values = np.array([1, 2, 5, 7, 9 ,10, 25])\n",
    "f = np.array([1, 5, 3, 1, 10 ,10, 3])\n",
    "beta = 3\n",
    "k = 5\n",
    "err, elapsed, s = exec_summary('CON', values, f, k, beta,jit=True ,timeout=timeout)\n",
    "con_left, con_right, con_n = s.getBucketRanges()\n",
    "plot_histogram(values[con_left], values[con_right], con_n)"
   ]
  },
  {
   "cell_type": "code",
   "execution_count": null,
   "metadata": {},
   "outputs": [],
   "source": []
  }
 ],
 "metadata": {
  "kernelspec": {
   "display_name": "Python 3 (ipykernel)",
   "language": "python",
   "name": "python3"
  },
  "language_info": {
   "codemirror_mode": {
    "name": "ipython",
    "version": 3
   },
   "file_extension": ".py",
   "mimetype": "text/x-python",
   "name": "python",
   "nbconvert_exporter": "python",
   "pygments_lexer": "ipython3",
   "version": "3.8.5"
  }
 },
 "nbformat": 4,
 "nbformat_minor": 4
}
